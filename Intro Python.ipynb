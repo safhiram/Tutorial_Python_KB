{
 "cells": [
  {
   "cell_type": "markdown",
   "metadata": {},
   "source": [
    "# Variabel"
   ]
  },
  {
   "cell_type": "code",
   "execution_count": 1,
   "metadata": {},
   "outputs": [
    {
     "name": "stdout",
     "output_type": "stream",
     "text": [
      "5\n",
      "John\n",
      "<class 'int'>\n",
      "<class 'str'>\n"
     ]
    }
   ],
   "source": [
    "x = 5\n",
    "y = \"John\"\n",
    "print(x)\n",
    "print(y)\n",
    "print(type(x))\n",
    "print(type(y))\n"
   ]
  },
  {
   "cell_type": "markdown",
   "metadata": {},
   "source": [
    "# Data Types and Typecasting"
   ]
  },
  {
   "cell_type": "code",
   "execution_count": 2,
   "metadata": {},
   "outputs": [
    {
     "name": "stdout",
     "output_type": "stream",
     "text": [
      "1.0\n",
      "2.8\n",
      "3.0\n"
     ]
    }
   ],
   "source": [
    "x = float(1)\n",
    "y = float(2.8)\n",
    "z = float(\"3\")\n",
    "print(x)\n",
    "print(y)\n",
    "print(z)"
   ]
  },
  {
   "cell_type": "markdown",
   "metadata": {},
   "source": [
    "# Operator"
   ]
  },
  {
   "cell_type": "code",
   "execution_count": 3,
   "metadata": {},
   "outputs": [
    {
     "name": "stdout",
     "output_type": "stream",
     "text": [
      "133\n",
      "-20\n",
      "35\n",
      "4\n"
     ]
    }
   ],
   "source": [
    "#addition operation\n",
    "x = 43 + 23 + 17+ 50\n",
    "print(x)\n",
    "\n",
    "#subtraction operation\n",
    "y = 30-50\n",
    "print(y)\n",
    "\n",
    "#multiple operation\n",
    "z = 5 * 7\n",
    "print(z)\n",
    "\n",
    "#division\n",
    "a = 25 / 5\n",
    "\n",
    "#integer division operation, the result is always integer\n",
    "b = 25 // 6\n",
    "print (b)"
   ]
  },
  {
   "cell_type": "markdown",
   "metadata": {},
   "source": [
    "# String"
   ]
  },
  {
   "cell_type": "code",
   "execution_count": 22,
   "metadata": {},
   "outputs": [
    {
     "name": "stdout",
     "output_type": "stream",
     "text": [
      "e\n",
      "n\n",
      "15\n",
      "g Taw\n",
      "eaagT\n",
      "SEMARANG TAWANG\n",
      "semarang tawang\n",
      "semarang tawang is a beautiful station.\n",
      "semarang tawangsemarang tawangsemarang tawang\n",
      "Jakarta \n",
      " Raya\n"
     ]
    },
    {
     "data": {
      "text/plain": [
       "'Jakarta \\n Raya'"
      ]
     },
     "execution_count": 22,
     "metadata": {},
     "output_type": "execute_result"
    }
   ],
   "source": [
    "station = \"Semarang Tawang\"\n",
    "\n",
    "#Slicing\n",
    "print(station[1])\n",
    "print(station[-9])\n",
    "print(len(station))\n",
    "print(station[7:12])\n",
    "print(station[1:11:2])\n",
    "\n",
    "#Method\n",
    "station = station.upper()\n",
    "print(station)\n",
    "station = station.lower()\n",
    "print(station)\n",
    "\n",
    "#Concatenantion\n",
    "adjective = \"beautiful\"\n",
    "statement = station + \" is a \" + adjective +\" station.\"\n",
    "print(statement)\n",
    "\n",
    "#Replication\n",
    "print(3*station)\n",
    "\n",
    "#Escape sequences\n",
    "print(\"Jakarta \\n Raya\")\n",
    "\"Jakarta \\n Raya\""
   ]
  },
  {
   "cell_type": "markdown",
   "metadata": {},
   "source": [
    "# Percabangan"
   ]
  },
  {
   "cell_type": "code",
   "execution_count": 23,
   "metadata": {},
   "outputs": [
    {
     "name": "stdout",
     "output_type": "stream",
     "text": [
      "5 adalah bilangan positif.\n"
     ]
    }
   ],
   "source": [
    "# Bila bilangan positif, tampilkan pesan\n",
    "angka = 5\n",
    "if angka > 0:\n",
    "    print(angka, \"adalah bilangan positif.\")\n",
    "\n",
    "angka = -1\n",
    "# yang berikut akan bernilai False sehingga tidak dieksekusi\n",
    "if angka > 0:\n",
    "    print(angka, \"adalah bilangan positif.\")"
   ]
  },
  {
   "cell_type": "code",
   "execution_count": 24,
   "metadata": {},
   "outputs": [
    {
     "name": "stdout",
     "output_type": "stream",
     "text": [
      "Positif atau Nol\n"
     ]
    }
   ],
   "source": [
    "# Program menguji apakah sebuah bilangan positif atau negatif\n",
    "bilangan = 5\n",
    "if bilangan >= 0:\n",
    "    print(\"Positif atau Nol\")\n",
    "else:\n",
    "    print(\"Bilangan negatif\")"
   ]
  },
  {
   "cell_type": "code",
   "execution_count": 26,
   "metadata": {},
   "outputs": [
    {
     "name": "stdout",
     "output_type": "stream",
     "text": [
      "Bilangan positif\n"
     ]
    }
   ],
   "source": [
    "bilangan = 5.5\n",
    "\n",
    "if bilangan > 0:\n",
    "    print(\"Bilangan positif\")\n",
    "elif bilangan == 0:\n",
    "    print(\"Nol\")\n",
    "else:\n",
    "    print(\"Bilangan negatif\")"
   ]
  },
  {
   "cell_type": "markdown",
   "metadata": {},
   "source": [
    "# Perulangan"
   ]
  },
  {
   "cell_type": "code",
   "execution_count": 28,
   "metadata": {},
   "outputs": [
    {
     "name": "stdout",
     "output_type": "stream",
     "text": [
      "Jumlah semuanya: 46\n"
     ]
    }
   ],
   "source": [
    "numbers = [7, 5, 9, 8, 4, 2, 6, 4, 1]\n",
    "sum = 0\n",
    "\n",
    "for each in numbers:\n",
    "    sum = sum + each\n",
    "\n",
    "print(\"Jumlah semuanya:\", sum)"
   ]
  },
  {
   "cell_type": "code",
   "execution_count": 29,
   "metadata": {},
   "outputs": [
    {
     "name": "stdout",
     "output_type": "stream",
     "text": [
      "Saya suka matematika\n",
      "Saya suka fisika\n",
      "Saya suka kimia\n"
     ]
    }
   ],
   "source": [
    "mapel = ['matematika', 'fisika', 'kimia']\n",
    "# iterasi list menggunakan indeks\n",
    "for i in range(len(mapel)):\n",
    "    print(\"Saya suka\", mapel[i])"
   ]
  },
  {
   "cell_type": "code",
   "execution_count": 30,
   "metadata": {},
   "outputs": [
    {
     "name": "stdout",
     "output_type": "stream",
     "text": [
      "The count is: 0\n",
      "The count is: 1\n",
      "The count is: 2\n",
      "The count is: 3\n",
      "The count is: 4\n",
      "Good bye!\n"
     ]
    }
   ],
   "source": [
    "count = 0\n",
    "while (count < 5):\n",
    "    print('The count is:', count)\n",
    "    count = count + 1\n",
    "print('Good bye!')"
   ]
  },
  {
   "cell_type": "markdown",
   "metadata": {},
   "source": [
    "# Fungsi"
   ]
  },
  {
   "cell_type": "code",
   "execution_count": 31,
   "metadata": {},
   "outputs": [
    {
     "name": "stdout",
     "output_type": "stream",
     "text": [
      "Hi, Umar. Apa kabar?\n"
     ]
    }
   ],
   "source": [
    "def sapa(nama): \n",
    "    print(\"Hi, \" + nama + \". Apa kabar?\") \n",
    "\n",
    "sapa('Umar') "
   ]
  },
  {
   "cell_type": "code",
   "execution_count": 33,
   "metadata": {},
   "outputs": [
    {
     "name": "stdout",
     "output_type": "stream",
     "text": [
      "Di dalam fungsi nilai total :  30\n",
      "Di luar fungsi, nilai total :  0\n"
     ]
    }
   ],
   "source": [
    "total = 0 \n",
    "\n",
    "def sum( arg1, arg2 ): \n",
    "    total = arg1 + arg2;  \n",
    "    print (\"Di dalam fungsi nilai total : \", total) \n",
    "    return total \n",
    "\n",
    "sum( 10, 20 ) \n",
    "print (\"Di luar fungsi, nilai total : \", total ) "
   ]
  },
  {
   "cell_type": "markdown",
   "metadata": {},
   "source": [
    "# Eksepsi"
   ]
  },
  {
   "cell_type": "code",
   "execution_count": 40,
   "metadata": {},
   "outputs": [
    {
     "name": "stdout",
     "output_type": "stream",
     "text": [
      "\n",
      "Masukan: a\n",
      "Upps! (<class 'ValueError'>, ValueError(\"invalid literal for int() with base 10: 'a'\",), <traceback object at 0x000001B9A70C9C08>)  terjadi.\n",
      "Masukan berikutnya.\n",
      "\n",
      "Masukan: 0\n",
      "Upps! (<class 'ZeroDivisionError'>, ZeroDivisionError('division by zero',), <traceback object at 0x000001B9A70C9C08>)  terjadi.\n",
      "Masukan berikutnya.\n",
      "\n",
      "Masukan: 4\n"
     ]
    }
   ],
   "source": [
    "#import modul sys untuk memperoleh jenis eksepsi\n",
    "import sys\n",
    "\n",
    "lists = ['a', 0, 4]\n",
    "for each in lists:\n",
    "    try:\n",
    "        print(\"\\nMasukan:\", each)\n",
    "        r = 1/int(each)\n",
    "        break\n",
    "    except:\n",
    "        print(\"Upps!\", sys.exc_info(),\" terjadi.\")\n",
    "        print(\"Masukan berikutnya.\")"
   ]
  },
  {
   "cell_type": "markdown",
   "metadata": {
    "collapsed": true
   },
   "source": [
    "# Visualisasi Graph"
   ]
  },
  {
   "cell_type": "code",
   "execution_count": 1,
   "metadata": {},
   "outputs": [
    {
     "name": "stderr",
     "output_type": "stream",
     "text": [
      "C:\\ProgramData\\Anaconda3\\lib\\site-packages\\networkx\\drawing\\nx_pylab.py:522: MatplotlibDeprecationWarning: The is_string_like function was deprecated in version 2.1.\n",
      "  if not cb.is_string_like(edge_color) \\\n",
      "C:\\ProgramData\\Anaconda3\\lib\\site-packages\\networkx\\drawing\\nx_pylab.py:543: MatplotlibDeprecationWarning: The is_string_like function was deprecated in version 2.1.\n",
      "  if cb.is_string_like(edge_color) or len(edge_color) == 1:\n",
      "C:\\ProgramData\\Anaconda3\\lib\\site-packages\\networkx\\drawing\\nx_pylab.py:724: MatplotlibDeprecationWarning: The is_string_like function was deprecated in version 2.1.\n",
      "  if not cb.is_string_like(label):\n"
     ]
    },
    {
     "data": {
      "image/png": "[encoded data removed]",
      "text/plain": [
       "<Figure size 432x288 with 1 Axes>"
      ]
     },
     "metadata": {},
     "output_type": "display_data"
    }
   ],
   "source": [
    "import networkx as nx\n",
    "import matplotlib.pyplot as plt\n",
    "from networkx.utils import is_string_like\n",
    "\n",
    "G = nx.Graph()\n",
    "\n",
    "#Adding nodes\n",
    "for i in range(1,10) :\n",
    "    G.add_node(i)\n",
    "\n",
    "#Adding edges\n",
    "G.add_edge(1,2)\n",
    "G.add_edge(1,3)\n",
    "G.add_edge(4,2)\n",
    "G.add_edge(5,6)\n",
    "G.add_edge(1,5)\n",
    "G.add_edge(7,3)\n",
    "G.add_edge(7,9)\n",
    "\n",
    "#Draw a Graph\n",
    "nx.draw_networkx(G, with_labels=True)\n",
    "plt.show()"
   ]
  }
 ],
 "metadata": {
  "kernelspec": {
   "display_name": "Python 3",
   "language": "python",
   "name": "python3"
  },
  "language_info": {
   "codemirror_mode": {
    "name": "ipython",
    "version": 3
   },
   "file_extension": ".py",
   "mimetype": "text/x-python",
   "name": "python",
   "nbconvert_exporter": "python",
   "pygments_lexer": "ipython3",
   "version": "3.6.6"
  }
 },
 "nbformat": 4,
 "nbformat_minor": 2
}
